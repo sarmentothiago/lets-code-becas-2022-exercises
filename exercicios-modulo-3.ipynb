{
 "cells": [
  {
   "cell_type": "markdown",
   "metadata": {},
   "source": [
    "# Exercícios Módulo 3 - Python"
   ]
  },
  {
   "cell_type": "markdown",
   "metadata": {},
   "source": [
    "Para os exercícios 1 ao 3, você precisará do arquivo: alunos.csv. [Clique aqui](https://s3-sa-east-1.amazonaws.com/lcpi/0f8eacaa-25d5-462e-84f4-4937489552d4.csv) para baixá-lo (ao salvar, renomeie o arquivo).\n",
    "\n",
    "1 - Neste exercício você deve criar um programa que abra o arquivo \"alunos.csv\" e imprima o conteúdo do arquivo linha a linha.\n",
    "\n",
    "Note que esse é o primeiro exercício de uma sequência, então o seu código\n",
    "pode ser reaproveitado nos exercícios seguintes. Dito isso, a recomendação é usar a biblioteca CSV para ler o arquivo mesmo que não seja realmente necessário para esse primeiro item."
   ]
  },
  {
   "cell_type": "code",
   "execution_count": 43,
   "metadata": {},
   "outputs": [
    {
     "name": "stdout",
     "output_type": "stream",
     "text": [
      "['RA', 'Nome', 'Frequencia', 'Prova_1', 'Prova_2', 'Prova_3', 'Prova_4']\n",
      "['110201', 'Antonio Carlos', '20', '6.5', '8.5', '7', '6']\n",
      "['110212', 'Ana Beatriz', '20', '7', '7', '7', '8']\n",
      "['110218', 'Carlos Vernes', '17', '7', '7', '7', '7']\n",
      "['110307', 'Francisco Cunha', '20', '9', '8.5', '8.5', '10']\n",
      "['110275', 'Sandra Rosa', '15', '6.5', '7.5', '7', '7']\n",
      "['110281', 'Juliana Arruda', '18', '7.5', '7', '7.5', '8']\n",
      "['110301', 'Joao Galo', '20', '5', '6.5', '7', '5']\n",
      "['110263', 'José Valente', '20', '10', '10', '10', '10']\n",
      "['110271', 'Maria Ferreira', '19', '9.5', '8', '7', '10']\n",
      "['110236', 'Adriana Tavares', '20', '8', '8', '8', '8']\n"
     ]
    }
   ],
   "source": [
    "import csv\n",
    "\n",
    "with open('alunos.csv','r',encoding='utf-8') as csv_file:\n",
    "    reader = csv.reader(csv_file)\n",
    "    for line in reader:\n",
    "        print(line)"
   ]
  },
  {
   "cell_type": "markdown",
   "metadata": {},
   "source": [
    "2 - Para o segundo exercício, você deve criar um programa que realize uma cópia do arquivo \"alunos.csv\". Essa cópia deve ser um arquivo chamado \"alunos_copia.csv\".\n",
    "\n",
    "Novamente, aqui você também não precisa utilizar a biblioteca CSV mas se\n",
    "usar, seu código pode ser reutilizado na próxima questão sem muitas\n",
    "modiﬁcações."
   ]
  },
  {
   "cell_type": "code",
   "execution_count": 44,
   "metadata": {},
   "outputs": [],
   "source": [
    "original_lines = []\n",
    "\n",
    "with open('alunos.csv','r',encoding='utf-8') as csv_file:\n",
    "    reader = csv.reader(csv_file)\n",
    "    for line in reader:\n",
    "        original_lines.append(line)\n",
    "\n",
    "with open('alunos_copia.csv','w',encoding='utf-8') as copy_csv:\n",
    "    copy_reader = csv.writer(copy_csv)\n",
    "    for line in original_lines:\n",
    "        copy_reader.writerow(line)"
   ]
  },
  {
   "cell_type": "markdown",
   "metadata": {},
   "source": [
    "3 - Finalmente chegamos ao último exercício dessa sequência relacionada à\n",
    "manipulação de arquivos.\n",
    "\n",
    "Neste exercício você deve criar um novo arquivo chamado \"alunos_media.csv\". Esse novo arquivo é uma cópia de \"alunos.csv\" porém com uma coluna a mais chamada \"Média\" que vai abrigar os valores das médias das provas de cada aluno da lista.\n",
    "\n",
    "Se você utilizou a biblioteca CSV para realizar os dois primeiros exercícios, muito será reaproveitado aqui. A biblioteca CSV permite a interpretação de cada linha como listas, que são fáceis de manipular."
   ]
  },
  {
   "cell_type": "code",
   "execution_count": 45,
   "metadata": {},
   "outputs": [],
   "source": [
    "with open('alunos_media.csv','w',encoding='utf-8') as avrg_csv:\n",
    "    avrg_reader = csv.writer(avrg_csv)\n",
    "    avrg_reader.writerow(original_lines[0][0:2]+['Média'])\n",
    "    for line in original_lines[1:]:\n",
    "        grades = [float(i) for i in line[3:7]]\n",
    "        average = sum(grades)/4\n",
    "        avrg_reader.writerow(line[0:2]+[average])\n"
   ]
  },
  {
   "cell_type": "markdown",
   "metadata": {},
   "source": [
    "4 - Você conhece Star Wars? Se trata, obviamente, da famosa saga espacial\n",
    "criada por George Lucas em 1977 e que deu origem a símbolos do cinema e\n",
    "da cultura pop com o imponente vilão Darth Vader ou o simpático robô\n",
    "R2-D2. A ideia desse exercício é justamente extrair informações do\n",
    "personagem Darth Vader através de uma API de Star Wars chamada SWAPI.\n",
    "\n",
    "Utilize a [URL](https://swapi.dev/api/people/4/) para fazer a requisição dos dados de Darth Vader e extraia as informações \"name\" (nome), \"height\"\n",
    "(altura), \"mass\" (massa) e \"birth_year\" (ano de nascimento) e imprima cada dado em uma linha.\n",
    "\n",
    "Dica: caso não se lembre de como fazer isso, assista novamente a aula sobre API porque o exemplo da aula pode te ajudar."
   ]
  },
  {
   "cell_type": "code",
   "execution_count": 48,
   "metadata": {},
   "outputs": [
    {
     "name": "stdout",
     "output_type": "stream",
     "text": [
      "200\n"
     ]
    }
   ],
   "source": [
    "import requests\n",
    "\n",
    "url = 'https://swapi.dev/api/people/4/'\n",
    "\n",
    "request = requests.get(url)\n",
    "print(request.status_code)"
   ]
  },
  {
   "cell_type": "markdown",
   "metadata": {},
   "source": [
    "#### Fazendo a request"
   ]
  },
  {
   "cell_type": "code",
   "execution_count": 49,
   "metadata": {},
   "outputs": [
    {
     "name": "stdout",
     "output_type": "stream",
     "text": [
      "{'name': 'Darth Vader', 'height': '202', 'mass': '136', 'hair_color': 'none', 'skin_color': 'white', 'eye_color': 'yellow', 'birth_year': '41.9BBY', 'gender': 'male', 'homeworld': 'https://swapi.dev/api/planets/1/', 'films': ['https://swapi.dev/api/films/1/', 'https://swapi.dev/api/films/2/', 'https://swapi.dev/api/films/3/', 'https://swapi.dev/api/films/6/'], 'species': [], 'vehicles': [], 'starships': ['https://swapi.dev/api/starships/13/'], 'created': '2014-12-10T15:18:20.704000Z', 'edited': '2014-12-20T21:17:50.313000Z', 'url': 'https://swapi.dev/api/people/4/'}\n"
     ]
    }
   ],
   "source": [
    "data = request.json()\n",
    "print(data)"
   ]
  },
  {
   "cell_type": "markdown",
   "metadata": {},
   "source": [
    "#### Printando os valores na mesma linha"
   ]
  },
  {
   "cell_type": "code",
   "execution_count": 51,
   "metadata": {},
   "outputs": [
    {
     "name": "stdout",
     "output_type": "stream",
     "text": [
      "Nome: Darth Vader, Altura: 202, Massa: 136, Ano de nascimento: 41.9BBY\n"
     ]
    }
   ],
   "source": [
    "print(\"Nome: {}, Altura: {}, Massa: {}, Ano de nascimento: {}\".format(data[\"name\"],data[\"height\"],data[\"mass\"],data[\"birth_year\"]))"
   ]
  },
  {
   "cell_type": "markdown",
   "metadata": {},
   "source": [
    "5 - Em 2019 surgiram os primeiros casos de COVID-19 que se alastrou pelo mundo resultando numa pandemia. A proposta deste exercício é utilizar uma API com informações de COVID-19 do mundo todo desde o início da proliferação e descobrir que dia o Brasil conﬁrmou o primeiro caso de Coronavírus.\n",
    "\n",
    "Para fazer isso, utilize a [URL](https://api.covid19api.com/country/brazil) em seu código. Ela retorna uma lista de dicionários, onde cada dicionário traz informações através das chaves:\n",
    "\n",
    "\"ID\", \"Country\", \"CountryCode\", \"Province\", \"City\", \"CityCode\",\"Lat\",\"Lon\",\"Conﬁrmed\",\"Deaths\", \"Recovered\", \"Active\" e \"Date\".\n",
    "\n",
    "Utilize essas informações e retorne a data em que o Brasil conﬁrmou o primeiro caso de COVID."
   ]
  },
  {
   "cell_type": "code",
   "execution_count": 52,
   "metadata": {},
   "outputs": [
    {
     "name": "stdout",
     "output_type": "stream",
     "text": [
      "200\n"
     ]
    }
   ],
   "source": [
    "covid_url = 'https://api.covid19api.com/country/brazil'\n",
    "request_covid = requests.get(covid_url)\n",
    "print(request.status_code)\n"
   ]
  },
  {
   "cell_type": "markdown",
   "metadata": {},
   "source": [
    "#### Fazendo a request"
   ]
  },
  {
   "cell_type": "code",
   "execution_count": 54,
   "metadata": {},
   "outputs": [],
   "source": [
    "data_covid = request_covid.json()\n",
    "print(data_covid)"
   ]
  },
  {
   "cell_type": "markdown",
   "metadata": {},
   "source": [
    "#### Encontrando a data do primeiro caso confirmado do Brasil"
   ]
  },
  {
   "cell_type": "code",
   "execution_count": 64,
   "metadata": {},
   "outputs": [
    {
     "name": "stdout",
     "output_type": "stream",
     "text": [
      "Data do primeiro caso confirmado 26/02/2020\n"
     ]
    }
   ],
   "source": [
    "for updt in data_covid:\n",
    "    if updt[\"Confirmed\"] == 1:\n",
    "        date = updt[\"Date\"]\n",
    "        break\n",
    "date = date.split(\"T\")                  #\"YYYY-MM-DD /T/ HH:MM:SSZ\"\n",
    "day_month_year = date[0].split(\"-\")     #\"YYYY /-/ MM /-/ DD\"\n",
    "day_month_year.reverse()                #\"DD /-/ MM /-/ YYYY\"\n",
    "\n",
    "print(\"Data do primeiro caso confirmado {}/{}/{}\".format(day_month_year[0],day_month_year[1],day_month_year[2]))"
   ]
  }
 ],
 "metadata": {
  "kernelspec": {
   "display_name": "Python 3.10.4 64-bit",
   "language": "python",
   "name": "python3"
  },
  "language_info": {
   "codemirror_mode": {
    "name": "ipython",
    "version": 3
   },
   "file_extension": ".py",
   "mimetype": "text/x-python",
   "name": "python",
   "nbconvert_exporter": "python",
   "pygments_lexer": "ipython3",
   "version": "3.10.4"
  },
  "orig_nbformat": 4,
  "vscode": {
   "interpreter": {
    "hash": "31f2aee4e71d21fbe5cf8b01ff0e069b9275f58929596ceb00d14d90e3e16cd6"
   }
  }
 },
 "nbformat": 4,
 "nbformat_minor": 2
}
