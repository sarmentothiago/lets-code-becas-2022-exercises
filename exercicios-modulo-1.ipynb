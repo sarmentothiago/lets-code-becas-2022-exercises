{
 "cells": [
  {
   "cell_type": "markdown",
   "metadata": {},
   "source": [
    "# Exercícios Módulo 1 - Python"
   ]
  },
  {
   "cell_type": "markdown",
   "metadata": {},
   "source": [
    "### Questão 1\n",
    "Faça um programa que peça um valor monetário e diminua-o em 15%. Seu\n",
    "programa deve imprimir a mensagem “O novo valor é [valor]”."
   ]
  },
  {
   "cell_type": "code",
   "execution_count": 17,
   "metadata": {},
   "outputs": [
    {
     "name": "stdout",
     "output_type": "stream",
     "text": [
      "O novo valor é 119.00\n"
     ]
    }
   ],
   "source": [
    "def pcntg15(value):\n",
    "    value_15p = value*0.85\n",
    "    print(\"O novo valor é {:.2f}\".format(value_15p))\n",
    "\n",
    "pcntg15(int(input(\"Escolhe um valor\")))"
   ]
  },
  {
   "cell_type": "markdown",
   "metadata": {},
   "source": [
    "### Questão 2\n",
    "Faça um programa que leia a validade das informações:\n",
    "\n",
    "1. Idade: entre 0 e 150\n",
    "2. Salário: maior que 0\n",
    "3. Sexo: M, F ou Outro\n",
    "\n",
    "O programa deve imprimir uma mensagem de erro para cada informação\n",
    "inválida."
   ]
  },
  {
   "cell_type": "code",
   "execution_count": 9,
   "metadata": {},
   "outputs": [
    {
     "name": "stdout",
     "output_type": "stream",
     "text": [
      "Idade inválida: digite numeros entre 0 e 150\n",
      "Salário inválido: digite um numero maior que zero\n",
      "Digite 'M','F' ou 'Outro'\n"
     ]
    }
   ],
   "source": [
    "age = int(input(\"Digite a idade: \"))\n",
    "if age < 0 or age > 150:\n",
    "    print(\"Idade inválida: digite numeros entre 0 e 150\")\n",
    "\n",
    "salary = int(input(\"Digite o salario: \"))\n",
    "if salary < 0:\n",
    "    print(\"Salário inválido: digite um numero maior que zero\")\n",
    "\n",
    "sex = input(\"Qual o sexo: \")\n",
    "if sex != 'M' or sex != 'F' or sex != \"Other\":\n",
    "    print(\"Digite 'M','F' ou 'Outro'\")\n",
    "\n"
   ]
  },
  {
   "cell_type": "markdown",
   "metadata": {},
   "source": [
    "### Questão 3\n",
    "Vamos fazer um programa para veriﬁcar quem é o assassino de um crime. Para descobrir o assassino, a polícia faz um pequeno questionário com 5 perguntas onde a resposta só pode ser sim ou não:\n",
    "\n",
    "1. Mora perto da vítima?\n",
    "2. Já trabalhou com a vítima?\n",
    "3. Telefonou para a vítima?\n",
    "4. Esteve no local do crime?\n",
    "5. Devia para a vítima?\n",
    "\n",
    "Cada resposta sim dá um ponto para o suspeito. A polícia considera que os suspeitos com 5 pontos são os assassinos, com 4 a 3 pontos são cúmplices e 2 pontos são apenas suspeitos, necessitando outras investigações. Valores iguais ou abaixo de 1 são liberados."
   ]
  },
  {
   "cell_type": "code",
   "execution_count": 12,
   "metadata": {},
   "outputs": [
    {
     "name": "stdout",
     "output_type": "stream",
     "text": [
      "O acusado está liberado\n"
     ]
    }
   ],
   "source": [
    "def investigation():\n",
    "    suspicion = 0\n",
    "    a = input(\"1. Mora perto da vítima? \")\n",
    "    if a == 'Sim':\n",
    "        suspicion += 1\n",
    "    \n",
    "    b = input(\"2. Já trabalhou com a vítima? \")\n",
    "    if a == 'Sim':\n",
    "        suspicion += 1\n",
    "\n",
    "    c = input(\"3. Telefonou para a vítima? \")\n",
    "    if a == 'Sim':\n",
    "        suspicion += 1\n",
    "\n",
    "    d = input(\"4. Esteve no local do crime? \")\n",
    "    if a == 'Sim':\n",
    "        suspicion += 1\n",
    "\n",
    "    e = input(\"5. Devia para a vítima? \")\n",
    "    if a == 'Sim':\n",
    "        suspicion += 1\n",
    "\n",
    "    if suspicion <= 1:\n",
    "        return \"está liberado\"\n",
    "    elif suspicion == 2:\n",
    "        return \"é suspeito\"\n",
    "    elif suspicion <= 4:\n",
    "        return \"é cúmplice\"\n",
    "    else:\n",
    "        return \"é o assassino!\"\n",
    "\n",
    "result = investigation()\n",
    "print(\"O acusado \" + result)"
   ]
  },
  {
   "cell_type": "markdown",
   "metadata": {},
   "source": [
    "### Questão 4\n",
    "Faça um programa que imprima a tabuada do 9 (de 9 * 1 a 9 * 10) usando loops."
   ]
  },
  {
   "cell_type": "code",
   "execution_count": 16,
   "metadata": {},
   "outputs": [
    {
     "name": "stdout",
     "output_type": "stream",
     "text": [
      "9 * 1 = 9\n",
      "9 * 2 = 18\n",
      "9 * 3 = 27\n",
      "9 * 4 = 36\n",
      "9 * 5 = 45\n",
      "9 * 6 = 54\n",
      "9 * 7 = 63\n",
      "9 * 8 = 72\n",
      "9 * 9 = 81\n",
      "9 * 10 = 90\n"
     ]
    }
   ],
   "source": [
    "for i in range(1,11):\n",
    "    print(\"9 * {} = {}\".format(i, i*9))"
   ]
  }
 ],
 "metadata": {
  "kernelspec": {
   "display_name": "Python 3.10.4 64-bit",
   "language": "python",
   "name": "python3"
  },
  "language_info": {
   "codemirror_mode": {
    "name": "ipython",
    "version": 3
   },
   "file_extension": ".py",
   "mimetype": "text/x-python",
   "name": "python",
   "nbconvert_exporter": "python",
   "pygments_lexer": "ipython3",
   "version": "3.10.4"
  },
  "orig_nbformat": 4,
  "vscode": {
   "interpreter": {
    "hash": "31f2aee4e71d21fbe5cf8b01ff0e069b9275f58929596ceb00d14d90e3e16cd6"
   }
  }
 },
 "nbformat": 4,
 "nbformat_minor": 2
}
