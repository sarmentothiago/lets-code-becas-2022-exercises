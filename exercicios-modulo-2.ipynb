{
 "cells": [
  {
   "cell_type": "markdown",
   "metadata": {},
   "source": [
    "# Exercícios Módulo 2 - Python"
   ]
  },
  {
   "cell_type": "markdown",
   "metadata": {},
   "source": [
    "### Questão 1\n",
    "Faça um programa que olhe todos os itens de uma lista e diga quantos deles são pares."
   ]
  },
  {
   "cell_type": "code",
   "execution_count": 4,
   "metadata": {},
   "outputs": [
    {
     "name": "stdout",
     "output_type": "stream",
     "text": [
      "A lista contém 50 números pares\n"
     ]
    }
   ],
   "source": [
    "def count_even(array):\n",
    "    even_numbers = 0\n",
    "    for i in array:\n",
    "        if i%2 == 0:\n",
    "            even_numbers += 1\n",
    "    return even_numbers\n",
    "\n",
    "even_list = [i for i in range(100)]\n",
    "even = count_even(even_list)\n",
    "if even_list == 0:\n",
    "    print(\"A lista não contém números pares\")\n",
    "elif even_list == 1:\n",
    "    print(\"A lista contém 1 número par\")\n",
    "else:\n",
    "    print(\"A lista contém {} números pares\".format(even))"
   ]
  },
  {
   "cell_type": "markdown",
   "metadata": {},
   "source": [
    "### Questão 2\n",
    "Faça um programa que peça para o usuário digitar uma palavra e imprima\n",
    "cada letra em uma linha."
   ]
  },
  {
   "cell_type": "code",
   "execution_count": 5,
   "metadata": {},
   "outputs": [
    {
     "name": "stdout",
     "output_type": "stream",
     "text": [
      "a r a r a "
     ]
    }
   ],
   "source": [
    "word = input(\"Digite uma palavra: \")\n",
    "for i in word:\n",
    "    print(i, end = \" \")"
   ]
  },
  {
   "cell_type": "markdown",
   "metadata": {},
   "source": [
    "### Questão 3\n",
    "\n",
    "Faça uma função que recebe duas listas e retorna a soma item a item dessas listas. Exemplo: Se a função receber as listas [1,4,3] e [3,5,1], então a função deve retornar [1+3, 4+5, 3+1] = [4, 9, 4]."
   ]
  },
  {
   "cell_type": "code",
   "execution_count": 7,
   "metadata": {},
   "outputs": [
    {
     "name": "stdout",
     "output_type": "stream",
     "text": [
      "[6, 6, 6, 6, 6]\n"
     ]
    }
   ],
   "source": [
    "def sum_list(list1,list2):\n",
    "    result = []\n",
    "    for i in range(len(list1)):\n",
    "        result.append(list1[i]+list2[i])\n",
    "    return result\n",
    "\n",
    "a = [1,2,3,4,5]\n",
    "b = [5,4,3,2,1]\n",
    "\n",
    "print(sum_list(a,b))"
   ]
  },
  {
   "cell_type": "markdown",
   "metadata": {},
   "source": [
    "### Questão 4\n",
    "\n",
    "Crie um dicionário cujas chaves são os meses do ano e os valores são a\n",
    "duração (em dias) de cada mês."
   ]
  },
  {
   "cell_type": "code",
   "execution_count": 8,
   "metadata": {},
   "outputs": [
    {
     "data": {
      "text/plain": [
       "31"
      ]
     },
     "execution_count": 8,
     "metadata": {},
     "output_type": "execute_result"
    }
   ],
   "source": [
    "year = {\n",
    "    \"January\":31,\n",
    "    \"Febuary\":28,\n",
    "    \"March\":31,\n",
    "    \"April\":30,\n",
    "    \"May\":31,\n",
    "    \"June\":30,\n",
    "    \"July\":31,\n",
    "    \"August\":31,\n",
    "    \"September\":30,\n",
    "    \"October\":31,\n",
    "    \"November\":30,\n",
    "    \"December\":31\n",
    "}\n",
    "month = \"July\"\n",
    "year[month]"
   ]
  },
  {
   "cell_type": "markdown",
   "metadata": {},
   "source": [
    "### Questão 5\n",
    "\n",
    "Imprima as chaves seguidas dos seus valores para dicionário criado no\n",
    "exercício anterior. Exemplo:\n",
    "\n",
    "Janeiro - 31\n",
    "\n",
    "Fevereiro - 28\n",
    "\n",
    "Março - 31\n",
    "\n",
    "Etc..."
   ]
  },
  {
   "cell_type": "code",
   "execution_count": 10,
   "metadata": {},
   "outputs": [
    {
     "name": "stdout",
     "output_type": "stream",
     "text": [
      "January - 31\n",
      "Febuary - 28\n",
      "March - 31\n",
      "April - 30\n",
      "May - 31\n",
      "June - 30\n",
      "July - 31\n",
      "August - 31\n",
      "September - 30\n",
      "October - 31\n",
      "November - 30\n",
      "December - 31\n"
     ]
    }
   ],
   "source": [
    "for i in year:\n",
    "    print(\"{} - {}\".format(i,year[i]))"
   ]
  }
 ],
 "metadata": {
  "kernelspec": {
   "display_name": "Python 3.10.4 64-bit",
   "language": "python",
   "name": "python3"
  },
  "language_info": {
   "codemirror_mode": {
    "name": "ipython",
    "version": 3
   },
   "file_extension": ".py",
   "mimetype": "text/x-python",
   "name": "python",
   "nbconvert_exporter": "python",
   "pygments_lexer": "ipython3",
   "version": "3.10.4"
  },
  "orig_nbformat": 4,
  "vscode": {
   "interpreter": {
    "hash": "31f2aee4e71d21fbe5cf8b01ff0e069b9275f58929596ceb00d14d90e3e16cd6"
   }
  }
 },
 "nbformat": 4,
 "nbformat_minor": 2
}
